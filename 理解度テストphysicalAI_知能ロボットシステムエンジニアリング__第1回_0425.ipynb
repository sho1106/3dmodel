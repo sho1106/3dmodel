{
  "nbformat": 4,
  "nbformat_minor": 0,
  "metadata": {
    "kernelspec": {
      "display_name": "Python 3",
      "language": "python",
      "name": "python3"
    },
    "language_info": {
      "codemirror_mode": {
        "name": "ipython",
        "version": 3
      },
      "file_extension": ".py",
      "mimetype": "text/x-python",
      "name": "python",
      "nbconvert_exporter": "python",
      "pygments_lexer": "ipython3",
      "version": "3.7.4"
    },
    "colab": {
      "provenance": [],
      "include_colab_link": true
    }
  },
  "cells": [
    {
      "cell_type": "markdown",
      "metadata": {
        "id": "view-in-github",
        "colab_type": "text"
      },
      "source": [
        "<a href=\"https://colab.research.google.com/github/sho1106/3dmodel/blob/main/%E7%90%86%E8%A7%A3%E5%BA%A6%E3%83%86%E3%82%B9%E3%83%88physicalAI_%E7%9F%A5%E8%83%BD%E3%83%AD%E3%83%9B%E3%82%99%E3%83%83%E3%83%88%E3%82%B7%E3%82%B9%E3%83%86%E3%83%A0%E3%82%A8%E3%83%B3%E3%82%B7%E3%82%99%E3%83%8B%E3%82%A2%E3%83%AA%E3%83%B3%E3%82%AF%E3%82%99__%E7%AC%AC1%E5%9B%9E_0425.ipynb\" target=\"_parent\"><img src=\"https://colab.research.google.com/assets/colab-badge.svg\" alt=\"Open In Colab\"/></a>"
      ]
    },
    {
      "cell_type": "markdown",
      "metadata": {
        "id": "TzJTZtvE8Pyi"
      },
      "source": [
        "#physicalAI_知能ロボットシステムエンジニアリング _第1回宿題\n",
        "\n",
        "\n",
        "\n"
      ]
    },
    {
      "cell_type": "markdown",
      "source": [],
      "metadata": {
        "id": "FizUZ5lIEaBW"
      }
    },
    {
      "cell_type": "markdown",
      "metadata": {
        "id": "WEjo789q8Pyo"
      },
      "source": [
        "## 課題\n",
        "今回の課題は確認クイズです。\n",
        "\n",
        "上から回答していくとcsv提出用csv `submission_pred.csv`が作成されます。\n",
        "前回までと同様，提出期限までにomnicampusに提出してください。\n",
        "\n",
        "**採点は締め切り後に一回だけ行われます。**\n",
        "（**即時採点ではありません。**）"
      ]
    },
    {
      "cell_type": "markdown",
      "metadata": {
        "id": "-Rsy-_mn8Pyp"
      },
      "source": [
        "この部分は修正しないでください"
      ]
    },
    {
      "cell_type": "code",
      "metadata": {
        "id": "D1YEKFg_8Pyq"
      },
      "source": [
        "import numpy as np\n",
        "import pandas as pd\n",
        "\n",
        "NUM_EXAMPLE_QUESTIONS = 1\n",
        "example = np.zeros(NUM_EXAMPLE_QUESTIONS,int)\n",
        "\n",
        "NUM_QUESTIONS = 5\n",
        "myanswer = np.zeros(NUM_QUESTIONS,int)"
      ],
      "execution_count": null,
      "outputs": []
    },
    {
      "cell_type": "markdown",
      "metadata": {
        "id": "_Jx-kQ9n8Pyr"
      },
      "source": [
        "### 回答方法\n",
        "各$\\fbox{　(　)　}$に当てはまるものとして最も適切なものを1つずつ選んでください。\n",
        "\n",
        "**例題**\n",
        "\n",
        "「深層学習/Deep Learning応用講座 – 生成モデル」の講義では$\\fbox{　(0)　}$の技術に関して基礎的なアルゴリズムを幅広く利用可能で最先端の手法も理解し、実装することができることを目的とする。\n",
        "\n",
        "1. 言語モデル\n",
        "2. 生成モデル\n",
        "3. 強化学習\n",
        "4. ビジネスモデル\n",
        "\n",
        "正しい回答を「生成モデル」とすると、以下のように0番目に2を数字で回答します．"
      ]
    },
    {
      "cell_type": "markdown",
      "metadata": {
        "id": "_rtiLn6Y8Pys"
      },
      "source": [
        "```python\n",
        "example[0] = 2\n",
        "\n",
        "```"
      ]
    },
    {
      "cell_type": "markdown",
      "metadata": {
        "id": "1772jOC68Pys"
      },
      "source": [
        "### 確認クイズ"
      ]
    },
    {
      "cell_type": "markdown",
      "metadata": {
        "id": "mQbqua-B8Pyt"
      },
      "source": [
        "**Q1 **\n",
        "\n",
        "ロボティクス開発における「システムエンジニアリング」の特徴として 最も適切なもの を選びなさい。\n",
        "\n",
        "1. アプリケーション単体の高速化を目的とする\n",
        "2. 部品の製造コストを削減する手法である\n",
        "3. ロボット全体のライフサイクルを見通した統合的開発管理手法である\n",
        "4. ソフトウェアの外注化によって効率化する方法\n",
        "\n",
        "回答: $\\fbox{　(0)　}$\n",
        "\n",
        "**Q2 **\n",
        "\n",
        "「ROS（Robot Operating System）」に関する説明として 最も適切なもの を選びなさい。\n",
        "\n",
        "1. 商用ライセンスが必要なロボットOSである\n",
        "2. 分散処理を行える構造をもち、多くの研究で活用されている\n",
        "3. 主に医療用ロボットに限定して利用されている\n",
        "4. Pythonのみに対応している軽量OSである\n",
        "\n",
        "回答: $\\fbox{　(1)　}$\n",
        "\n",
        "画像認識AIの精度を高めるための施策として 最も適切なもの を選びなさい。\n",
        "\n",
        "**Q3 **\n",
        "1. アノテーション仕様を明確にし、ラベル付け品質を上げる\n",
        "2. より高解像度の画像を使う\n",
        "3. モデルのパラメータを毎日変更する\n",
        "4. 古いモデルの再利用を推奨する\n",
        "\n",
        "回答: $\\fbox{　(2)　}$\n",
        "\n",
        "**Q4 **\n",
        "\n",
        "MLOpsに関する講義内容として 最も適切なもの を選びなさい。\n",
        "\n",
        "1. モデルの再学習を避けることで運用コストを削減する\n",
        "2. ロボットのハードウェア修理体制を整備するフレームワークである\n",
        "3. データ収集を完全自動化し、人手を介さない開発を行う仕組み\n",
        "4. AIモデルの開発から運用までを継続的に管理するための考え方\n",
        "\n",
        "回答: $\\fbox{　(3)　}$\n",
        "\n",
        "**Q5 **\n",
        "ロボティクスとAIの連携が近年進んでいる要因として 最も適切なもの を選びなさい。\n",
        "\n",
        "\n",
        "1. ロボットの普及によりソフトウェアの需要が低下しているため\n",
        "2. 画像認識・基盤モデルなどのAI技術の進展が関係しているため\n",
        "3. ハードウェアコストの増大によるもの\n",
        "4. ロボティクス業界がAIを避けてきた伝統の反動として\n",
        "\n",
        "回答: $\\fbox{　(4)　}$\n",
        "\n"
      ]
    },
    {
      "cell_type": "code",
      "metadata": {
        "id": "UbUB8ge78Pyt"
      },
      "source": [
        "myanswer[0] = # WRITE ME\n",
        "myanswer[1] = # WRITE ME\n",
        "myanswer[2] = # WRITE ME\n",
        "myanswer[3] = # WRITE ME\n",
        "myanswer[4] = # WRITE ME\n"
      ],
      "execution_count": null,
      "outputs": []
    },
    {
      "cell_type": "markdown",
      "metadata": {
        "id": "6atJgxzDzX8l"
      },
      "source": [
        "**この部分は修正しないでください**"
      ]
    },
    {
      "cell_type": "code",
      "source": [
        "if not np.any(myanswer==0):\n",
        "    submission = pd.Series(myanswer, name='label')\n",
        "    submission.to_csv('/content/submission_pred.csv', header=True, index_label='id')\n",
        "else:\n",
        "    print('Error: please answer all of the questions')"
      ],
      "metadata": {
        "id": "bzBjejdRx3A_"
      },
      "execution_count": null,
      "outputs": []
    },
    {
      "cell_type": "code",
      "source": [],
      "metadata": {
        "id": "08GmEUFKyPOd"
      },
      "execution_count": null,
      "outputs": []
    }
  ]
}