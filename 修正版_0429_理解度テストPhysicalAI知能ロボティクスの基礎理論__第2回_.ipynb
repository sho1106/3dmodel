{
  "nbformat": 4,
  "nbformat_minor": 0,
  "metadata": {
    "kernelspec": {
      "display_name": "Python 3",
      "language": "python",
      "name": "python3"
    },
    "language_info": {
      "codemirror_mode": {
        "name": "ipython",
        "version": 3
      },
      "file_extension": ".py",
      "mimetype": "text/x-python",
      "name": "python",
      "nbconvert_exporter": "python",
      "pygments_lexer": "ipython3",
      "version": "3.7.4"
    },
    "colab": {
      "provenance": [],
      "include_colab_link": true
    }
  },
  "cells": [
    {
      "cell_type": "markdown",
      "metadata": {
        "id": "view-in-github",
        "colab_type": "text"
      },
      "source": [
        "<a href=\"https://colab.research.google.com/github/sho1106/3dmodel/blob/main/%E4%BF%AE%E6%AD%A3%E7%89%88_0429_%E7%90%86%E8%A7%A3%E5%BA%A6%E3%83%86%E3%82%B9%E3%83%88PhysicalAI%E7%9F%A5%E8%83%BD%E3%83%AD%E3%83%9B%E3%82%99%E3%83%86%E3%82%A3%E3%82%AF%E3%82%B9%E3%81%AE%E5%9F%BA%E7%A4%8E%E7%90%86%E8%AB%96__%E7%AC%AC2%E5%9B%9E_.ipynb\" target=\"_parent\"><img src=\"https://colab.research.google.com/assets/colab-badge.svg\" alt=\"Open In Colab\"/></a>"
      ]
    },
    {
      "cell_type": "markdown",
      "metadata": {
        "id": "TzJTZtvE8Pyi"
      },
      "source": [
        "#修正版_0429_PhysicalAI知能ロボティクスの基礎理論_第2回宿題"
      ]
    },
    {
      "cell_type": "markdown",
      "metadata": {
        "id": "WEjo789q8Pyo"
      },
      "source": [
        "## 課題\n",
        "今回の課題は確認クイズです。\n",
        "\n",
        "上から回答していくと提出用csvファイル `submission_pred.csv`が作成されます。\n",
        "提出期限までにOmnicampusに提出してください。\n",
        "\n",
        "**採点は締め切り後に一回だけ行われます**\n",
        "（**即時採点ではありません。**）"
      ]
    },
    {
      "cell_type": "markdown",
      "metadata": {
        "id": "-Rsy-_mn8Pyp"
      },
      "source": [
        "この部分は修正しないでください"
      ]
    },
    {
      "cell_type": "code",
      "metadata": {
        "id": "D1YEKFg_8Pyq"
      },
      "source": [
        "import numpy as np\n",
        "import pandas as pd\n",
        "\n",
        "NUM_EXAMPLE_QUESTIONS = 1\n",
        "example = np.zeros(NUM_EXAMPLE_QUESTIONS,int)\n",
        "\n",
        "NUM_QUESTIONS = 6\n",
        "myanswer = np.zeros(NUM_QUESTIONS,int)"
      ],
      "execution_count": null,
      "outputs": []
    },
    {
      "cell_type": "markdown",
      "metadata": {
        "id": "_Jx-kQ9n8Pyr"
      },
      "source": [
        "### 回答方法\n",
        "それぞれの$\\fbox{　(　)　}$に当てはまるものとして最も適切なものを1つずつ選んでください。\n",
        "\n",
        "**例題**\n",
        "\n",
        "「AIエンジニアリング実践」の講義では、AIを効果的に活用するためには$\\fbox{　(0)　}$が重要であり、座学と演習を通してAIシステムの構築と改善に必要な技術的知識を学び、実践できることを目的とする。\n",
        "\n",
        "1. モデルの中身の理解\n",
        "2. 幅広いエンジニアリングの知識\n",
        "3. 理論的な数学知識\n",
        "4. マーケティング戦略\n",
        "\n",
        "正しい回答を「幅広いエンジニアリングの知識」とすると、以下のように0番目に2を数字で回答します。"
      ]
    },
    {
      "cell_type": "markdown",
      "metadata": {
        "id": "_rtiLn6Y8Pys"
      },
      "source": [
        "```python\n",
        "example[0] = 2\n",
        "\n",
        "```"
      ]
    },
    {
      "cell_type": "markdown",
      "metadata": {
        "id": "1772jOC68Pys"
      },
      "source": [
        "### 確認クイズ"
      ]
    },
    {
      "cell_type": "markdown",
      "source": [
        "physicalAI_知能ロボティクスの基礎理論__第2回_.pdfを読んだ上で選択肢を1つ選べ。なお、右手座標系に当てはめて考えてください。"
      ],
      "metadata": {
        "id": "4KoIy40ZA3Ln"
      }
    },
    {
      "cell_type": "markdown",
      "metadata": {
        "id": "mQbqua-B8Pyt"
      },
      "source": [
        "**Exercise 2.0** \\\n",
        "*1.*\n",
        "\n",
        "1. Transformation, Movements\n",
        "2. Mapping, Operators\n",
        "3. Translation, Functions\n",
        "4. Projection, Displacements\n",
        "\n",
        "\n",
        "回答: $\\fbox{　(0)　}$\n",
        "\n",
        "\\\n",
        "*2.*\n",
        "\n",
        "1. Y, Z, X\n",
        "2. Y, X, Z\n",
        "3. X, Y, Z\n",
        "4. Z, Y, X\n",
        "\n",
        "\n",
        "回答: $\\fbox{　(1)　}$\n",
        "\n",
        "\\\n",
        "**Exercise 2.1**\n",
        "\n",
        "1. $𝑅 = 𝑅_z(θ) \\cdot 𝑅_x(φ)$\n",
        "2. $𝑅 = 𝑅_x(φ) \\cdot 𝑅_z(θ)$\n",
        "3. $𝑅 = 𝑅_z(φ) \\cdot 𝑅_x(θ)$\n",
        "4. $𝑅 = 𝑅_x(θ) \\cdot 𝑅_z(φ)$\n",
        "\n",
        "回答: $\\fbox{　(2)　}$\n",
        "\n",
        "\\\n",
        "**Exercise 2.12**\n",
        "\n",
        "1. $ {}^A V = {}^A_B R {}^B V = [-1.34 \\quad 22.32 \\quad 30.00]$\n",
        "2. $ {}^A V = {}^A_B R {}^B V = [-1.34 \\quad 22.32 \\quad 30.00]^T$\n",
        "3. $ {}^A V = 52.34$\n",
        "4. $ {}^A V = {}^A_B T {}^B V = [-1.34 \\quad 22.32 \\quad 30.00]^T$\n",
        "\n",
        "回答: $\\fbox{　(3)　}$\n",
        "\n",
        "\\\n",
        "**Exercise 2.27**\n",
        "1. ${}^A_B T = \\begin{bmatrix}\n",
        "1 &  & &  3 \\\\\n",
        " & 1 &  & \\\\\n",
        "& &   -1 & \\\\\n",
        " & & &-1  \n",
        "\\end{bmatrix}$\n",
        "\n",
        "2. ${}^A_B T = \\begin{bmatrix}\n",
        "-1 &  & &  3 \\\\\n",
        " & -1 &  & \\\\\n",
        "& &   1 & \\\\\n",
        " & & &1  \n",
        "\\end{bmatrix}$\n",
        "\n",
        "3. ${}^A_B T = \\begin{bmatrix}\n",
        "1 &  & &  -3 \\\\\n",
        " & 1 &  & \\\\\n",
        "& &   -1 & \\\\\n",
        " & & &-1  \n",
        "\\end{bmatrix}$\n",
        "\n",
        "4. ${}^A_B T = \\begin{bmatrix}\n",
        "-1 &  & &  -3 \\\\\n",
        " & -1 &  & \\\\\n",
        "& &   1 & \\\\\n",
        " & & &1  \n",
        "\\end{bmatrix}$\n",
        "\n",
        "\n",
        "回答: $\\fbox{　(4)　}$\n",
        "\n",
        "\\\n",
        "**Exercise 2.29**\n",
        "\n",
        "1. ${}^B_C T = \\begin{bmatrix}\n",
        "0 & -0.500 & -0.866 & 0 \\\\\n",
        "0 & -0.866 & 0.500 & 0 \\\\\n",
        "-1 & 0 & 0 & 2 \\\\\n",
        "0 & 0 & 0 & 1\n",
        "\\end{bmatrix}$\n",
        "\n",
        "2. ${}^B_C T = \\begin{bmatrix}\n",
        "0 & 0.500 & -0.866 & 0 \\\\\n",
        "0 & -0.866 & -0.500 & 0 \\\\\n",
        "-1 & 0 & 0 & 2 \\\\\n",
        "0 & 0 & 0 & 1\n",
        "\\end{bmatrix}$\n",
        "\n",
        "3. ${}^B_C T = \\begin{bmatrix}\n",
        "0 & 0 & 1 & 0 \\\\\n",
        "-0.500 & -0.866 & 0 & 0 \\\\\n",
        "0.866 & -0.500 & 0 & 2 \\\\\n",
        "0 & 0 & 0 & 1\n",
        "\\end{bmatrix}$\n",
        "\n",
        "4. ${}^B_C T = \\begin{bmatrix}\n",
        "0 & 0 & 1 & 0 \\\\\n",
        "0.500 & -0.866 & 0 & 0 \\\\\n",
        "0.866 & 0.500 & 0 & 2 \\\\\n",
        "0 & 0 & 0 & 1\n",
        "\\end{bmatrix}$\n",
        "\n",
        "回答: $\\fbox{　(5)　}$\n",
        "\n"
      ]
    },
    {
      "cell_type": "code",
      "metadata": {
        "id": "UbUB8ge78Pyt"
      },
      "source": [
        "myanswer[0] = # WRITE ME\n",
        "myanswer[1] = # WRITE ME\n",
        "myanswer[2] = # WRITE ME\n",
        "myanswer[3] = # WRITE ME\n",
        "myanswer[4] = # WRITE ME\n",
        "myanswer[5] = # WRITE ME"
      ],
      "execution_count": null,
      "outputs": []
    },
    {
      "cell_type": "markdown",
      "metadata": {
        "id": "6atJgxzDzX8l"
      },
      "source": [
        "**以下のコードは修正しないでください**"
      ]
    },
    {
      "cell_type": "code",
      "source": [
        "if not np.any(myanswer==0):\n",
        "    submission = pd.Series(myanswer, name='label')\n",
        "    submission.to_csv('/content/submission_pred.csv', header=True, index_label='id')\n",
        "else:\n",
        "    print('Error: please answer all of the questions')"
      ],
      "metadata": {
        "id": "bzBjejdRx3A_"
      },
      "execution_count": null,
      "outputs": []
    }
  ]
}